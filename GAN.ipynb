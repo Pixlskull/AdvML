{
  "nbformat": 4,
  "nbformat_minor": 0,
  "metadata": {
    "kernelspec": {
      "name": "python3",
      "display_name": "Python 3"
    },
    "language_info": {
      "codemirror_mode": {
        "name": "ipython",
        "version": 3
      },
      "file_extension": ".py",
      "mimetype": "text/x-python",
      "name": "python",
      "nbconvert_exporter": "python",
      "pygments_lexer": "ipython3",
      "version": "3.7.6"
    },
    "colab": {
      "name": "GAN.ipynb",
      "provenance": [],
      "collapsed_sections": []
    },
    "accelerator": "GPU"
  },
  "cells": [
    {
      "cell_type": "markdown",
      "metadata": {
        "id": "OkR3lGmp10f5",
        "colab_type": "text"
      },
      "source": [
        "Original code from https://github.com/eriklindernoren/Keras-GAN/blob/master/dcgan/dcgan.py under the following license:\n",
        "\n",
        "MIT License\n",
        "\n",
        "Copyright (c) 2017 Erik Linder-Norén\n",
        "\n",
        "Permission is hereby granted, free of charge, to any person obtaining a copy\n",
        "of this software and associated documentation files (the \"Software\"), to deal\n",
        "in the Software without restriction, including without limitation the rights\n",
        "to use, copy, modify, merge, publish, distribute, sublicense, and/or sell\n",
        "copies of the Software, and to permit persons to whom the Software is\n",
        "furnished to do so, subject to the following conditions:\n",
        "\n",
        "The above copyright notice and this permission notice shall be included in all\n",
        "copies or substantial portions of the Software.\n",
        "\n",
        "THE SOFTWARE IS PROVIDED \"AS IS\", WITHOUT WARRANTY OF ANY KIND, EXPRESS OR\n",
        "IMPLIED, INCLUDING BUT NOT LIMITED TO THE WARRANTIES OF MERCHANTABILITY,\n",
        "FITNESS FOR A PARTICULAR PURPOSE AND NONINFRINGEMENT. IN NO EVENT SHALL THE\n",
        "AUTHORS OR COPYRIGHT HOLDERS BE LIABLE FOR ANY CLAIM, DAMAGES OR OTHER\n",
        "LIABILITY, WHETHER IN AN ACTION OF CONTRACT, TORT OR OTHERWISE, ARISING FROM,\n",
        "OUT OF OR IN CONNECTION WITH THE SOFTWARE OR THE USE OR OTHER DEALINGS IN THE\n",
        "SOFTWARE.\n",
        "\n",
        "The author's model was based on the paper here: https://arxiv.org/pdf/1511.06434.pdf\n",
        "\n",
        "## Setup\n",
        "\n",
        "1. Go to https://colab.research.google.com and choose the \\\"Upload\\\" option to upload this notebook file.\n",
        "1. In the Edit menu, choose \\\"Notebook Settings\\\" and then set the \\\"Hardware Accelerator\\\" dropdown to GPU."
      ]
    },
    {
      "cell_type": "code",
      "metadata": {
        "id": "X3Gb5m-W10gI",
        "colab_type": "code",
        "colab": {}
      },
      "source": [
        "# upgrade tensorflow to tensorflow 2\n",
        "%tensorflow_version 2.x\n",
        "# display matplotlib plots\n",
        "%matplotlib inline"
      ],
      "execution_count": 0,
      "outputs": []
    },
    {
      "cell_type": "code",
      "metadata": {
        "id": "XRa7lBO810g1",
        "colab_type": "code",
        "colab": {}
      },
      "source": [
        "from tensorflow.keras.datasets import mnist\n",
        "from tensorflow.keras.layers import Input, Dense, Reshape, Flatten, Dropout\n",
        "from tensorflow.keras.layers import BatchNormalization, Activation, ZeroPadding2D\n",
        "from tensorflow.keras.layers import UpSampling2D, Conv2D, LeakyReLU\n",
        "from tensorflow.keras.models import Sequential, Model\n",
        "from tensorflow.keras.optimizers import Adam\n",
        "from tensorflow import test\n",
        "from tensorflow import device\n",
        "\n",
        "import matplotlib.pyplot as plt\n",
        "from IPython.display import Image\n",
        "\n",
        "import sys\n",
        "\n",
        "import numpy as np\n",
        "import random"
      ],
      "execution_count": 0,
      "outputs": []
    },
    {
      "cell_type": "code",
      "metadata": {
        "id": "-qf6LRTd10hM",
        "colab_type": "code",
        "colab": {}
      },
      "source": [
        "# Global Constants\n",
        "images_dir = \"dcgan_images\"\n",
        "img_rows = 9\n",
        "img_cols = 9\n",
        "channels = 1\n",
        "noise_len = 100"
      ],
      "execution_count": 0,
      "outputs": []
    },
    {
      "cell_type": "markdown",
      "metadata": {
        "id": "v7awMKS210hl",
        "colab_type": "text"
      },
      "source": [
        "## Define functions for creating, training, and using the models"
      ]
    },
    {
      "cell_type": "code",
      "metadata": {
        "id": "-yWulxWk10hu",
        "colab_type": "code",
        "colab": {}
      },
      "source": [
        "def build_discriminator():\n",
        "    '''\n",
        "    Put together a CNN that will return a single confidence output.\n",
        "    \n",
        "    returns: the model object\n",
        "    '''\n",
        "\n",
        "    img_shape = (img_rows, img_cols, channels)\n",
        "\n",
        "    model = Sequential()\n",
        "\n",
        "    model.add(Conv2D(32, kernel_size=3, strides=2, input_shape=img_shape, padding=\"same\"))\n",
        "    model.add(LeakyReLU(alpha=0.2))\n",
        "    model.add(Dropout(0.25))\n",
        "    model.add(Conv2D(64, kernel_size=3, strides=2, padding=\"same\"))\n",
        "    model.add(ZeroPadding2D(padding=((0,1),(0,1))))\n",
        "    model.add(BatchNormalization(momentum=0.8))\n",
        "    model.add(LeakyReLU(alpha=0.2))\n",
        "    model.add(Dropout(0.25))\n",
        "    model.add(Conv2D(128, kernel_size=3, strides=2, padding=\"same\"))\n",
        "    model.add(BatchNormalization(momentum=0.8))\n",
        "    model.add(LeakyReLU(alpha=0.2))\n",
        "    model.add(Dropout(0.25))\n",
        "    model.add(Conv2D(256, kernel_size=3, strides=1, padding=\"same\"))\n",
        "    model.add(BatchNormalization(momentum=0.8))\n",
        "    model.add(LeakyReLU(alpha=0.2))\n",
        "    model.add(Dropout(0.25))\n",
        "\n",
        "    model.add(Flatten())\n",
        "    model.add(Dense(1, activation='sigmoid'))\n",
        "\n",
        "    return model\n",
        "\n",
        "def build_generator():\n",
        "    '''\n",
        "    Put together a model that takes in one-dimensional noise and outputs two-dimensional\n",
        "    data representing a black and white image, with -1 for black and 1 for white.\n",
        "    \n",
        "    returns: the model object\n",
        "    '''\n",
        "\n",
        "    noise_shape = (noise_len,)\n",
        "\n",
        "    model = Sequential()\n",
        "\n",
        "    model.add(Dense(128 * 7 * 7, activation=\"relu\", input_shape=noise_shape))\n",
        "    model.add(Reshape((7, 7, 128)))\n",
        "    model.add(UpSampling2D(interpolation=\"bilinear\"))\n",
        "    model.add(Conv2D(128, kernel_size=3, padding=\"same\"))\n",
        "    model.add(BatchNormalization(momentum=0.8)) \n",
        "    model.add(LeakyReLU(alpha=0.2))\n",
        "    model.add(UpSampling2D(interpolation=\"bilinear\"))\n",
        "    model.add(Conv2D(64, kernel_size=3, padding=\"same\"))\n",
        "    model.add(BatchNormalization(momentum=0.8))\n",
        "    model.add(LeakyReLU(alpha=0.2))\n",
        "    model.add(Conv2D(1, kernel_size=3, padding=\"same\"))\n",
        "    model.add(Activation(\"tanh\"))\n",
        "\n",
        "    return model\n",
        "\n",
        "def build_combined():\n",
        "    '''\n",
        "    Puts together a model that combines the discriminator and generator models.\n",
        "    \n",
        "    returns: the generator, discriminator, and combined model objects\n",
        "    '''\n",
        "    \n",
        "    optimizer = Adam(0.0002, 0.5)\n",
        "\n",
        "    # Build and compile the discriminator\n",
        "    discriminator = build_discriminator()\n",
        "    discriminator.compile(loss='binary_crossentropy', \n",
        "                          optimizer=optimizer,\n",
        "                          metrics=['accuracy'])\n",
        "\n",
        "\n",
        "    # Build and compile the generator\n",
        "    generator = build_generator()\n",
        "\n",
        "    # The generator takes noise as input and generates images\n",
        "    noise = Input(shape=(noise_len,))\n",
        "    img = generator(noise)\n",
        "    \n",
        "    # For the combined model we will only train the generator\n",
        "    discriminator.trainable = False\n",
        "\n",
        "    # The discriminator takes generated images as input and determines validity\n",
        "    valid = discriminator(img)\n",
        "\n",
        "    # The combined model  (stacked generator and discriminator) takes\n",
        "    # noise as input => generates images => determines validity \n",
        "    combined = Model(inputs=noise, outputs=valid)\n",
        "    combined.compile(loss='binary_crossentropy', optimizer=optimizer)\n",
        "    return generator, discriminator, combined\n",
        "\n",
        "def save_imgs(generator, iteration):\n",
        "    '''\n",
        "    Has the generator create images and saves the images in a single file that includes\n",
        "    the number of iterations in the filename.\n",
        "    \n",
        "    inputs:\n",
        "        generator: the generator model object returned by build_combined\n",
        "        iteration: the iteration number (but can be anything that can be represented as a string)\n",
        "    \n",
        "    returns: None\n",
        "    '''\n",
        "    r, c = 5, 5\n",
        "    noise = np.random.normal(0, 1, (r * c, noise_len))\n",
        "    gen_imgs = generator.predict(noise)\n",
        "\n",
        "    fig, axs = plt.subplots(r, c)\n",
        "    cnt = 0\n",
        "    for i in range(r):\n",
        "        for j in range(c):\n",
        "            axs[i,j].imshow(gen_imgs[cnt, :,:,0], cmap='gray', vmin=-1, vmax=1)\n",
        "            axs[i,j].axis('off')\n",
        "            cnt += 1\n",
        "    fig.savefig(os.path.join(images_dir, 'mnist_{}.png'.format(iteration)))\n",
        "    plt.close()\n",
        "\n",
        "def train(generator, discriminator, combined, iterations, batch_size=128, save_interval=50):\n",
        "    '''\n",
        "    Trains all model objects\n",
        "    \n",
        "    generator: the generator model object returned by build_combined\n",
        "    discriminator: the discriminator model object returned by build_combined\n",
        "    combined: the combined model object returned by build_combined\n",
        "    iterations: integer, the number of iterations to train for\n",
        "    batch_size: integer, the number of training samples to use at a time\n",
        "    save_interval: integer, will generate and save images when the current iteration_num % save_interval is 0\n",
        "    \n",
        "    returns: None\n",
        "    '''\n",
        "\n",
        "    # Load the dataset\n",
        "    (X_train, _), (_, _) = mnist.load_data()\n",
        "\n",
        "    # Rescale -1 to 1\n",
        "    X_train = (X_train.astype(np.float32) - 127.5) / 127.5\n",
        "    X_train = np.expand_dims(X_train, axis=3)\n",
        "\n",
        "    half_batch = int(batch_size / 2)\n",
        "\n",
        "    for iteration in range(iterations):\n",
        "\n",
        "        # ---------------------\n",
        "        #  Train Discriminator\n",
        "        # ---------------------\n",
        "\n",
        "        # Select a random half batch of images\n",
        "        idx = np.random.randint(0, X_train.shape[0], half_batch)\n",
        "        imgs = X_train[idx]\n",
        "\n",
        "        # Sample noise and generate a half batch of new images\n",
        "        noise = np.random.normal(0, 1, (half_batch, noise_len))\n",
        "        gen_imgs = generator.predict(noise)\n",
        "\n",
        "        # Train the discriminator (real images classified as ones and generated images as zeros)\n",
        "        real = 1\n",
        "        fake = 0\n",
        "        # Use noisy labels: about 10% of the time, swap the labels\n",
        "        # (see https://github.com/soumith/ganhacks)\n",
        "        if np.random.randint(0, 10) < 1:\n",
        "          real = 0\n",
        "          fake = 1\n",
        "        d_loss_real = discriminator.train_on_batch(imgs, np.zeros((half_batch, 1)) + real)\n",
        "        d_loss_fake = discriminator.train_on_batch(gen_imgs, np.zeros((half_batch, 1)) + fake)\n",
        "\n",
        "        # ---------------------\n",
        "        #  Train Generator\n",
        "        # ---------------------\n",
        "\n",
        "        noise = np.random.normal(0, 1, (batch_size, noise_len))\n",
        "\n",
        "        # Train the generator (wants discriminator to mistake images as real)\n",
        "        g_loss = combined.train_on_batch(noise, np.ones((batch_size, 1)))\n",
        "\n",
        "        # If at save interval => save generated image samples and plot progress\n",
        "        if iteration % save_interval == 0:\n",
        "            # Plot the progress\n",
        "            d_loss = 0.5 * np.add(d_loss_real, d_loss_fake)\n",
        "            print (\"{} [D loss: {}, acc.: {:.2%}] [G loss: {}]\".format(iteration, d_loss[0], d_loss[1], g_loss))\n",
        "            save_imgs(generator, iteration)\n",
        "            \n",
        "def show_new_image(generator):\n",
        "    '''\n",
        "    Generates and displays a new image\n",
        "    \n",
        "    inputs: generator object model returned from build_combined\n",
        "    \n",
        "    returns: generated image\n",
        "    '''\n",
        "    \n",
        "    noise = np.random.normal(0, 1, (1, noise_len))\n",
        "    gen_img = generator.predict(noise)[0][:,:,0]\n",
        "    \n",
        "    return plt.imshow(gen_img, cmap='gray', vmin=-1, vmax=1)"
      ],
      "execution_count": 0,
      "outputs": []
    },
    {
      "cell_type": "markdown",
      "metadata": {
        "id": "suz991e610h-",
        "colab_type": "text"
      },
      "source": [
        "## This is the main section of the code, that actually creates the model objects"
      ]
    },
    {
      "cell_type": "code",
      "metadata": {
        "id": "dOIvTgzk10iB",
        "colab_type": "code",
        "colab": {}
      },
      "source": [
        "# set up directories to hold the images that are saved during training checkpoints.\n",
        "import os\n",
        "\n",
        "if (not os.path.isdir(images_dir)):\n",
        "    os.mkdir(images_dir)"
      ],
      "execution_count": 0,
      "outputs": []
    },
    {
      "cell_type": "code",
      "metadata": {
        "id": "GH2DElzk10iL",
        "colab_type": "code",
        "outputId": "c12d6d59-423a-4468-a410-9e246c01a6a6",
        "colab": {
          "base_uri": "https://localhost:8080/",
          "height": 344
        }
      },
      "source": [
        "generator, discriminator, combined = build_combined()"
      ],
      "execution_count": 0,
      "outputs": [
        {
          "output_type": "stream",
          "text": [
            "WARNING:tensorflow:Model was constructed with shape Tensor(\"conv2d_input:0\", shape=(None, 9, 9, 1), dtype=float32) for input (None, 9, 9, 1), but it was re-called on a Tensor with incompatible shape (None, 28, 28, 1).\n"
          ],
          "name": "stdout"
        },
        {
          "output_type": "error",
          "ename": "ValueError",
          "evalue": "ignored",
          "traceback": [
            "\u001b[0;31m---------------------------------------------------------------------------\u001b[0m",
            "\u001b[0;31mValueError\u001b[0m                                Traceback (most recent call last)",
            "\u001b[0;32m<ipython-input-6-eda609e7a44a>\u001b[0m in \u001b[0;36m<module>\u001b[0;34m()\u001b[0m\n\u001b[0;32m----> 1\u001b[0;31m \u001b[0mgenerator\u001b[0m\u001b[0;34m,\u001b[0m \u001b[0mdiscriminator\u001b[0m\u001b[0;34m,\u001b[0m \u001b[0mcombined\u001b[0m \u001b[0;34m=\u001b[0m \u001b[0mbuild_combined\u001b[0m\u001b[0;34m(\u001b[0m\u001b[0;34m)\u001b[0m\u001b[0;34m\u001b[0m\u001b[0;34m\u001b[0m\u001b[0m\n\u001b[0m",
            "\u001b[0;32m<ipython-input-4-0b94f5d30b6f>\u001b[0m in \u001b[0;36mbuild_combined\u001b[0;34m()\u001b[0m\n\u001b[1;32m     86\u001b[0m \u001b[0;34m\u001b[0m\u001b[0m\n\u001b[1;32m     87\u001b[0m     \u001b[0;31m# The discriminator takes generated images as input and determines validity\u001b[0m\u001b[0;34m\u001b[0m\u001b[0;34m\u001b[0m\u001b[0;34m\u001b[0m\u001b[0m\n\u001b[0;32m---> 88\u001b[0;31m     \u001b[0mvalid\u001b[0m \u001b[0;34m=\u001b[0m \u001b[0mdiscriminator\u001b[0m\u001b[0;34m(\u001b[0m\u001b[0mimg\u001b[0m\u001b[0;34m)\u001b[0m\u001b[0;34m\u001b[0m\u001b[0;34m\u001b[0m\u001b[0m\n\u001b[0m\u001b[1;32m     89\u001b[0m \u001b[0;34m\u001b[0m\u001b[0m\n\u001b[1;32m     90\u001b[0m     \u001b[0;31m# The combined model  (stacked generator and discriminator) takes\u001b[0m\u001b[0;34m\u001b[0m\u001b[0;34m\u001b[0m\u001b[0;34m\u001b[0m\u001b[0m\n",
            "\u001b[0;32m/usr/local/lib/python3.6/dist-packages/tensorflow_core/python/keras/engine/base_layer.py\u001b[0m in \u001b[0;36m__call__\u001b[0;34m(self, inputs, *args, **kwargs)\u001b[0m\n\u001b[1;32m    771\u001b[0m                     not base_layer_utils.is_in_eager_or_tf_function()):\n\u001b[1;32m    772\u001b[0m                   \u001b[0;32mwith\u001b[0m \u001b[0mauto_control_deps\u001b[0m\u001b[0;34m.\u001b[0m\u001b[0mAutomaticControlDependencies\u001b[0m\u001b[0;34m(\u001b[0m\u001b[0;34m)\u001b[0m \u001b[0;32mas\u001b[0m \u001b[0macd\u001b[0m\u001b[0;34m:\u001b[0m\u001b[0;34m\u001b[0m\u001b[0;34m\u001b[0m\u001b[0m\n\u001b[0;32m--> 773\u001b[0;31m                     \u001b[0moutputs\u001b[0m \u001b[0;34m=\u001b[0m \u001b[0mcall_fn\u001b[0m\u001b[0;34m(\u001b[0m\u001b[0mcast_inputs\u001b[0m\u001b[0;34m,\u001b[0m \u001b[0;34m*\u001b[0m\u001b[0margs\u001b[0m\u001b[0;34m,\u001b[0m \u001b[0;34m**\u001b[0m\u001b[0mkwargs\u001b[0m\u001b[0;34m)\u001b[0m\u001b[0;34m\u001b[0m\u001b[0;34m\u001b[0m\u001b[0m\n\u001b[0m\u001b[1;32m    774\u001b[0m                     \u001b[0;31m# Wrap Tensors in `outputs` in `tf.identity` to avoid\u001b[0m\u001b[0;34m\u001b[0m\u001b[0;34m\u001b[0m\u001b[0;34m\u001b[0m\u001b[0m\n\u001b[1;32m    775\u001b[0m                     \u001b[0;31m# circular dependencies.\u001b[0m\u001b[0;34m\u001b[0m\u001b[0;34m\u001b[0m\u001b[0;34m\u001b[0m\u001b[0m\n",
            "\u001b[0;32m/usr/local/lib/python3.6/dist-packages/tensorflow_core/python/keras/engine/sequential.py\u001b[0m in \u001b[0;36mcall\u001b[0;34m(self, inputs, training, mask)\u001b[0m\n\u001b[1;32m    265\u001b[0m       \u001b[0;32mif\u001b[0m \u001b[0;32mnot\u001b[0m \u001b[0mself\u001b[0m\u001b[0;34m.\u001b[0m\u001b[0mbuilt\u001b[0m\u001b[0;34m:\u001b[0m\u001b[0;34m\u001b[0m\u001b[0;34m\u001b[0m\u001b[0m\n\u001b[1;32m    266\u001b[0m         \u001b[0mself\u001b[0m\u001b[0;34m.\u001b[0m\u001b[0m_init_graph_network\u001b[0m\u001b[0;34m(\u001b[0m\u001b[0mself\u001b[0m\u001b[0;34m.\u001b[0m\u001b[0minputs\u001b[0m\u001b[0;34m,\u001b[0m \u001b[0mself\u001b[0m\u001b[0;34m.\u001b[0m\u001b[0moutputs\u001b[0m\u001b[0;34m,\u001b[0m \u001b[0mname\u001b[0m\u001b[0;34m=\u001b[0m\u001b[0mself\u001b[0m\u001b[0;34m.\u001b[0m\u001b[0mname\u001b[0m\u001b[0;34m)\u001b[0m\u001b[0;34m\u001b[0m\u001b[0;34m\u001b[0m\u001b[0m\n\u001b[0;32m--> 267\u001b[0;31m       \u001b[0;32mreturn\u001b[0m \u001b[0msuper\u001b[0m\u001b[0;34m(\u001b[0m\u001b[0mSequential\u001b[0m\u001b[0;34m,\u001b[0m \u001b[0mself\u001b[0m\u001b[0;34m)\u001b[0m\u001b[0;34m.\u001b[0m\u001b[0mcall\u001b[0m\u001b[0;34m(\u001b[0m\u001b[0minputs\u001b[0m\u001b[0;34m,\u001b[0m \u001b[0mtraining\u001b[0m\u001b[0;34m=\u001b[0m\u001b[0mtraining\u001b[0m\u001b[0;34m,\u001b[0m \u001b[0mmask\u001b[0m\u001b[0;34m=\u001b[0m\u001b[0mmask\u001b[0m\u001b[0;34m)\u001b[0m\u001b[0;34m\u001b[0m\u001b[0;34m\u001b[0m\u001b[0m\n\u001b[0m\u001b[1;32m    268\u001b[0m \u001b[0;34m\u001b[0m\u001b[0m\n\u001b[1;32m    269\u001b[0m     \u001b[0moutputs\u001b[0m \u001b[0;34m=\u001b[0m \u001b[0minputs\u001b[0m  \u001b[0;31m# handle the corner case where self.layers is empty\u001b[0m\u001b[0;34m\u001b[0m\u001b[0;34m\u001b[0m\u001b[0m\n",
            "\u001b[0;32m/usr/local/lib/python3.6/dist-packages/tensorflow_core/python/keras/engine/network.py\u001b[0m in \u001b[0;36mcall\u001b[0;34m(self, inputs, training, mask)\u001b[0m\n\u001b[1;32m    715\u001b[0m     return self._run_internal_graph(\n\u001b[1;32m    716\u001b[0m         \u001b[0minputs\u001b[0m\u001b[0;34m,\u001b[0m \u001b[0mtraining\u001b[0m\u001b[0;34m=\u001b[0m\u001b[0mtraining\u001b[0m\u001b[0;34m,\u001b[0m \u001b[0mmask\u001b[0m\u001b[0;34m=\u001b[0m\u001b[0mmask\u001b[0m\u001b[0;34m,\u001b[0m\u001b[0;34m\u001b[0m\u001b[0;34m\u001b[0m\u001b[0m\n\u001b[0;32m--> 717\u001b[0;31m         convert_kwargs_to_constants=base_layer_utils.call_context().saving)\n\u001b[0m\u001b[1;32m    718\u001b[0m \u001b[0;34m\u001b[0m\u001b[0m\n\u001b[1;32m    719\u001b[0m   \u001b[0;32mdef\u001b[0m \u001b[0mcompute_output_shape\u001b[0m\u001b[0;34m(\u001b[0m\u001b[0mself\u001b[0m\u001b[0;34m,\u001b[0m \u001b[0minput_shape\u001b[0m\u001b[0;34m)\u001b[0m\u001b[0;34m:\u001b[0m\u001b[0;34m\u001b[0m\u001b[0;34m\u001b[0m\u001b[0m\n",
            "\u001b[0;32m/usr/local/lib/python3.6/dist-packages/tensorflow_core/python/keras/engine/network.py\u001b[0m in \u001b[0;36m_run_internal_graph\u001b[0;34m(self, inputs, training, mask, convert_kwargs_to_constants)\u001b[0m\n\u001b[1;32m    889\u001b[0m \u001b[0;34m\u001b[0m\u001b[0m\n\u001b[1;32m    890\u001b[0m           \u001b[0;31m# Compute outputs.\u001b[0m\u001b[0;34m\u001b[0m\u001b[0;34m\u001b[0m\u001b[0;34m\u001b[0m\u001b[0m\n\u001b[0;32m--> 891\u001b[0;31m           \u001b[0moutput_tensors\u001b[0m \u001b[0;34m=\u001b[0m \u001b[0mlayer\u001b[0m\u001b[0;34m(\u001b[0m\u001b[0mcomputed_tensors\u001b[0m\u001b[0;34m,\u001b[0m \u001b[0;34m**\u001b[0m\u001b[0mkwargs\u001b[0m\u001b[0;34m)\u001b[0m\u001b[0;34m\u001b[0m\u001b[0;34m\u001b[0m\u001b[0m\n\u001b[0m\u001b[1;32m    892\u001b[0m \u001b[0;34m\u001b[0m\u001b[0m\n\u001b[1;32m    893\u001b[0m           \u001b[0;31m# Update tensor_dict.\u001b[0m\u001b[0;34m\u001b[0m\u001b[0;34m\u001b[0m\u001b[0;34m\u001b[0m\u001b[0m\n",
            "\u001b[0;32m/usr/local/lib/python3.6/dist-packages/tensorflow_core/python/keras/engine/base_layer.py\u001b[0m in \u001b[0;36m__call__\u001b[0;34m(self, inputs, *args, **kwargs)\u001b[0m\n\u001b[1;32m    735\u001b[0m         \u001b[0;31m# are casted, not before.\u001b[0m\u001b[0;34m\u001b[0m\u001b[0;34m\u001b[0m\u001b[0;34m\u001b[0m\u001b[0m\n\u001b[1;32m    736\u001b[0m         input_spec.assert_input_compatibility(self.input_spec, inputs,\n\u001b[0;32m--> 737\u001b[0;31m                                               self.name)\n\u001b[0m\u001b[1;32m    738\u001b[0m         if (any(isinstance(x, ragged_tensor.RaggedTensor) for x in input_list)\n\u001b[1;32m    739\u001b[0m             and self._supports_ragged_inputs is False):  # pylint: disable=g-bool-id-comparison\n",
            "\u001b[0;32m/usr/local/lib/python3.6/dist-packages/tensorflow_core/python/keras/engine/input_spec.py\u001b[0m in \u001b[0;36massert_input_compatibility\u001b[0;34m(input_spec, inputs, layer_name)\u001b[0m\n\u001b[1;32m    211\u001b[0m                 \u001b[0;34m' incompatible with the layer: expected axis '\u001b[0m \u001b[0;34m+\u001b[0m \u001b[0mstr\u001b[0m\u001b[0;34m(\u001b[0m\u001b[0maxis\u001b[0m\u001b[0;34m)\u001b[0m \u001b[0;34m+\u001b[0m\u001b[0;34m\u001b[0m\u001b[0;34m\u001b[0m\u001b[0m\n\u001b[1;32m    212\u001b[0m                 \u001b[0;34m' of input shape to have value '\u001b[0m \u001b[0;34m+\u001b[0m \u001b[0mstr\u001b[0m\u001b[0;34m(\u001b[0m\u001b[0mvalue\u001b[0m\u001b[0;34m)\u001b[0m \u001b[0;34m+\u001b[0m\u001b[0;34m\u001b[0m\u001b[0;34m\u001b[0m\u001b[0m\n\u001b[0;32m--> 213\u001b[0;31m                 ' but received input with shape ' + str(shape))\n\u001b[0m\u001b[1;32m    214\u001b[0m     \u001b[0;31m# Check shape.\u001b[0m\u001b[0;34m\u001b[0m\u001b[0;34m\u001b[0m\u001b[0;34m\u001b[0m\u001b[0m\n\u001b[1;32m    215\u001b[0m     \u001b[0;32mif\u001b[0m \u001b[0mspec\u001b[0m\u001b[0;34m.\u001b[0m\u001b[0mshape\u001b[0m \u001b[0;32mis\u001b[0m \u001b[0;32mnot\u001b[0m \u001b[0;32mNone\u001b[0m\u001b[0;34m:\u001b[0m\u001b[0;34m\u001b[0m\u001b[0;34m\u001b[0m\u001b[0m\n",
            "\u001b[0;31mValueError\u001b[0m: Input 0 of layer dense is incompatible with the layer: expected axis -1 of input shape to have value 1024 but received input with shape [None, 4096]"
          ]
        }
      ]
    },
    {
      "cell_type": "markdown",
      "metadata": {
        "id": "IC_YSE7n10iR",
        "colab_type": "text"
      },
      "source": [
        "We can take a look at what each of the models look like."
      ]
    },
    {
      "cell_type": "code",
      "metadata": {
        "id": "AMI1SESd10iW",
        "colab_type": "code",
        "colab": {}
      },
      "source": [
        "generator.summary()"
      ],
      "execution_count": 0,
      "outputs": []
    },
    {
      "cell_type": "code",
      "metadata": {
        "id": "vTIoq8Tr10ii",
        "colab_type": "code",
        "colab": {}
      },
      "source": [
        "# Note that we get a warning here about weights being trainable.\n",
        "# When we are training the discriminator, we want its weights to be trainable.\n",
        "# When we are training the generator, we want the discriminator weights to be fixed.\n",
        "# This is surprising to Keras, so it is warning us to check that this is really what we want (it is!)\n",
        "discriminator.summary()"
      ],
      "execution_count": 0,
      "outputs": []
    },
    {
      "cell_type": "code",
      "metadata": {
        "id": "sszWLl-s10iq",
        "colab_type": "code",
        "colab": {}
      },
      "source": [
        "combined.summary()"
      ],
      "execution_count": 0,
      "outputs": []
    },
    {
      "cell_type": "markdown",
      "metadata": {
        "id": "_ig7giYA10i0",
        "colab_type": "text"
      },
      "source": [
        "## Training the model"
      ]
    },
    {
      "cell_type": "code",
      "metadata": {
        "id": "gd5cvE0D10i3",
        "colab_type": "code",
        "colab": {}
      },
      "source": [
        "# Train using GPU acceleration\n",
        "# (see https://colab.research.google.com/notebooks/gpu.ipynb#scrollTo=Y04m-jvKRDsJ)\n",
        "device_name = test.gpu_device_name()\n",
        "if device_name != '/device:GPU:0':\n",
        "  print(\n",
        "      '\\n\\nThis error most likely means that this notebook is not '\n",
        "      'configured to use a GPU.  Change this in Notebook Settings via the '\n",
        "      'command palette (cmd/ctrl-shift-P) or the Edit menu.\\n\\n')\n",
        "  raise SystemError('GPU device not found')\n",
        "\n",
        "# Lower the number of iterations when you start debugging! You want a short testing cycle until you are confident\n",
        "# that the code is working. Also, since the exercises involve models with less complicated patterns, you will\n",
        "# likely not need as many iterations to train well.\n",
        "with device('/device:GPU:0'):\n",
        "  train(generator, discriminator, combined, iterations=2001, batch_size=32, save_interval=50)"
      ],
      "execution_count": 0,
      "outputs": []
    },
    {
      "cell_type": "markdown",
      "metadata": {
        "id": "bx37Xn_D10i-",
        "colab_type": "text"
      },
      "source": [
        "You can look at the saved files to see what the model output looks like after a certain number of iterations:"
      ]
    },
    {
      "cell_type": "code",
      "metadata": {
        "id": "Gbi2Ypii10jB",
        "colab_type": "code",
        "colab": {}
      },
      "source": [
        "Image(filename=os.path.join(images_dir, 'mnist_0.png'))"
      ],
      "execution_count": 0,
      "outputs": []
    },
    {
      "cell_type": "code",
      "metadata": {
        "id": "Ax2Xw2Ii10jJ",
        "colab_type": "code",
        "outputId": "c72bba73-69ac-43eb-83c2-decccd5bcdfd",
        "colab": {
          "base_uri": "https://localhost:8080/",
          "height": 305
        }
      },
      "source": [
        "Image(filename=os.path.join(images_dir, 'mnist_500.png'))"
      ],
      "execution_count": 0,
      "outputs": [
        {
          "output_type": "execute_result",
          "data": {
            "image/png": "[encoded data removed]",
            "text/plain": [
              "<IPython.core.display.Image object>"
            ]
          },
          "metadata": {
            "tags": []
          },
          "execution_count": 44
        }
      ]
    },
    {
      "cell_type": "code",
      "metadata": {
        "id": "42B8ovyc10jR",
        "colab_type": "code",
        "outputId": "585aeceb-ec6f-4c4c-922f-49ea80c3c09a",
        "colab": {
          "base_uri": "https://localhost:8080/",
          "height": 305
        }
      },
      "source": [
        "Image(filename=os.path.join(images_dir, 'mnist_1000.png'))"
      ],
      "execution_count": 0,
      "outputs": [
        {
          "output_type": "execute_result",
          "data": {
            "image/png": "[encoded data removed]",
            "text/plain": [
              "<IPython.core.display.Image object>"
            ]
          },
          "metadata": {
            "tags": []
          },
          "execution_count": 36
        }
      ]
    },
    {
      "cell_type": "markdown",
      "metadata": {
        "id": "uEXczEQE10jZ",
        "colab_type": "text"
      },
      "source": [
        "Let's have the trained model generate some images for us."
      ]
    },
    {
      "cell_type": "code",
      "metadata": {
        "id": "IbQkILwv10jb",
        "colab_type": "code",
        "colab": {}
      },
      "source": [
        "show_new_image(generator)"
      ],
      "execution_count": 0,
      "outputs": []
    },
    {
      "cell_type": "code",
      "metadata": {
        "id": "4DufmdPx10jh",
        "colab_type": "code",
        "colab": {}
      },
      "source": [
        "show_new_image(generator)"
      ],
      "execution_count": 0,
      "outputs": []
    },
    {
      "cell_type": "code",
      "metadata": {
        "id": "yXO4RJ-W10jp",
        "colab_type": "code",
        "colab": {}
      },
      "source": [
        "show_new_image(generator)"
      ],
      "execution_count": 0,
      "outputs": []
    },
    {
      "cell_type": "code",
      "metadata": {
        "id": "quw7i5_d10jw",
        "colab_type": "code",
        "colab": {}
      },
      "source": [
        "show_new_image(generator)"
      ],
      "execution_count": 0,
      "outputs": []
    },
    {
      "cell_type": "markdown",
      "metadata": {
        "id": "NfUM0c3_10j4",
        "colab_type": "text"
      },
      "source": [
        "# Exercise Option 1\n",
        "Change the model so that it learns to produce 9x9 images of some simple pattern, for instance horizontal lines."
      ]
    },
    {
      "cell_type": "code",
      "metadata": {
        "id": "hMIq7ZpKV1sk",
        "colab_type": "code",
        "colab": {}
      },
      "source": [
        "def build_discriminator():\n",
        "    '''\n",
        "    Put together a CNN that will return a single confidence output.\n",
        "    \n",
        "    returns: the model object\n",
        "    '''\n",
        "    #discriminator should be the same\n",
        "    img_shape = (img_rows, img_cols, channels)\n",
        "\n",
        "    model = Sequential()\n",
        "\n",
        "    model.add(Conv2D(32, kernel_size=3, strides=2, input_shape=img_shape, padding=\"same\"))\n",
        "    model.add(LeakyReLU(alpha=0.2))\n",
        "    model.add(Dropout(0.25))\n",
        "    model.add(Conv2D(64, kernel_size=3, strides=2, padding=\"same\"))\n",
        "    model.add(ZeroPadding2D(padding=((0,1),(0,1))))\n",
        "    model.add(BatchNormalization(momentum=0.8))\n",
        "    model.add(LeakyReLU(alpha=0.2))\n",
        "    model.add(Dropout(0.25))\n",
        "    model.add(Conv2D(128, kernel_size=3, strides=2, padding=\"same\"))\n",
        "    model.add(BatchNormalization(momentum=0.8))\n",
        "    model.add(LeakyReLU(alpha=0.2))\n",
        "    model.add(Dropout(0.25))\n",
        "    model.add(Conv2D(256, kernel_size=3, strides=1, padding=\"same\"))\n",
        "    model.add(BatchNormalization(momentum=0.8))\n",
        "    model.add(LeakyReLU(alpha=0.2))\n",
        "    model.add(Dropout(0.25))\n",
        "\n",
        "    model.add(Flatten())\n",
        "    model.add(Dense(1, activation='sigmoid'))\n",
        "\n",
        "    return model\n",
        "\n",
        "def build_generator():\n",
        "    '''\n",
        "    Put together a model that takes in one-dimensional noise and outputs two-dimensional\n",
        "    data representing a black and white image, with -1 for black and 1 for white.\n",
        "    \n",
        "    returns: the model object\n",
        "    '''\n",
        "    #changed to make the model input work\n",
        "    noise_shape = (noise_len,)\n",
        "\n",
        "    model = Sequential()\n",
        "\n",
        "    model.add(Dense(64*3*6, activation=\"relu\", input_shape=noise_shape))\n",
        "    model.add(Reshape((3, 3, 128)))\n",
        "    model.add(UpSampling2D(size=3, interpolation=\"bilinear\"))\n",
        "    #changed from 128 filters to 256\n",
        "    model.add(Conv2D(256, kernel_size=3, padding=\"same\"))\n",
        "    model.add(BatchNormalization(momentum=0.8)) \n",
        "    model.add(LeakyReLU(alpha=0.2))\n",
        "    model.add(Conv2D(64, kernel_size=3, padding=\"same\"))\n",
        "    model.add(BatchNormalization(momentum=0.8))\n",
        "    model.add(LeakyReLU(alpha=0.2))\n",
        "    model.add(Conv2D(1, kernel_size=3, padding=\"same\"))\n",
        "    model.add(Activation(\"tanh\"))\n",
        "\n",
        "    return model\n",
        "\n",
        "def build_combined():\n",
        "    '''\n",
        "    Puts together a model that combines the discriminator and generator models.\n",
        "    \n",
        "    returns: the generator, discriminator, and combined model objects\n",
        "    '''\n",
        "    #no changes here\n",
        "    optimizer = Adam(0.0002, 0.5)\n",
        "\n",
        "    # Build and compile the discriminator\n",
        "    discriminator = build_discriminator()\n",
        "    discriminator.compile(loss='binary_crossentropy', \n",
        "                          optimizer=optimizer,\n",
        "                          metrics=['accuracy'])\n",
        "\n",
        "\n",
        "    # Build and compile the generator\n",
        "    generator = build_generator()\n",
        "\n",
        "    # The generator takes noise as input and generates images\n",
        "    noise = Input(shape=(noise_len,))\n",
        "    img = generator(noise)\n",
        "    \n",
        "    # For the combined model we will only train the generator\n",
        "    discriminator.trainable = True\n",
        "\n",
        "    # The discriminator takes generated images as input and determines validity\n",
        "    valid = discriminator(img)\n",
        "\n",
        "    # The combined model  (stacked generator and discriminator) takes\n",
        "    # noise as input => generates images => determines validity \n",
        "    combined = Model(inputs=noise, outputs=valid)\n",
        "    combined.compile(loss='binary_crossentropy', optimizer=optimizer)\n",
        "    return generator, discriminator, combined\n",
        "\n",
        "def save_imgs(generator, iteration):\n",
        "    '''\n",
        "    Has the generator create images and saves the images in a single file that includes\n",
        "    the number of iterations in the filename.\n",
        "    \n",
        "    inputs:\n",
        "        generator: the generator model object returned by build_combined\n",
        "        iteration: the iteration number (but can be anything that can be represented as a string)\n",
        "    \n",
        "    returns: None\n",
        "    '''\n",
        "    #no changes here\n",
        "    r, c = 5, 5\n",
        "    noise = np.random.normal(0, 1, (r * c, noise_len))\n",
        "    gen_imgs = generator.predict(noise)\n",
        "\n",
        "    # Rescale images 0 - 1\n",
        "    gen_imgs = 0.5 * gen_imgs + 0.5\n",
        "\n",
        "    fig, axs = plt.subplots(r, c)\n",
        "    #fig.suptitle(\"DCGAN: Generated digits\", fontsize=12)\n",
        "    cnt = 0\n",
        "    for i in range(r):\n",
        "        for j in range(c):\n",
        "            axs[i,j].imshow(gen_imgs[cnt, :,:,0], cmap='gray')\n",
        "            axs[i,j].axis('off')\n",
        "            cnt += 1\n",
        "    fig.savefig(os.path.join(images_dir, 'mnist_{}.png'.format(iteration)))\n",
        "    plt.close()\n",
        "\n",
        "def show_new_image(generator):\n",
        "    '''\n",
        "    Generates and displays a new image\n",
        "    \n",
        "    inputs: generator object model returned from build_combined\n",
        "    \n",
        "    returns: generated image\n",
        "    '''\n",
        "    #no changes here\n",
        "    noise = np.random.normal(0, 1, (1, noise_len))\n",
        "    gen_img = generator.predict(noise)[0][:,:,0]\n",
        "    \n",
        "    return plt.imshow(gen_img, cmap='gray', vmin=-1, vmax=1)\n",
        "\n",
        "def train(generator, discriminator, combined, iterations, batch_size=128, save_interval=50):\n",
        "    '''\n",
        "    Trains all model objects\n",
        "    \n",
        "    generator: the generator model object returned by build_combined\n",
        "    discriminator: the discriminator model object returned by build_combined\n",
        "    combined: the combined model object returned by build_combined\n",
        "    iterations: integer, the number of iterations to train for\n",
        "    batch_size: integer, the number of training samples to use at a time\n",
        "    save_interval: integer, will generate and save images when the current iteration_num % save_interval is 0\n",
        "    \n",
        "    returns: None\n",
        "    '''\n",
        "    #made images with a random row of white\n",
        "    data_amount = 10000\n",
        "    data = np.zeros([data_amount, img_rows, img_cols])\n",
        "    for x in range(0, data_amount):\n",
        "        row = random.randint(0,8)\n",
        "        data[x, row, :] = 255\n",
        "    # Load the dataset\n",
        "    X_train = data\n",
        "\n",
        "    # Rescale -1 to 1\n",
        "    X_train = (X_train.astype(np.float32) - 127.5) / 127.5\n",
        "    X_train = np.expand_dims(X_train, axis=3)\n",
        "\n",
        "    half_batch = int(batch_size / 2)\n",
        "\n",
        "    for iteration in range(iterations):\n",
        "\n",
        "        # ---------------------\n",
        "        #  Train Discriminator\n",
        "        # ---------------------\n",
        "\n",
        "        # Select a random half batch of images\n",
        "        idx = np.random.randint(0, X_train.shape[0], half_batch)\n",
        "        imgs = X_train[idx]\n",
        "\n",
        "        # Sample noise and generate a half batch of new images\n",
        "        noise = np.random.normal(0, 1, (half_batch, noise_len))\n",
        "        gen_imgs = generator.predict(noise)\n",
        "\n",
        "        # Train the discriminator (real images classified as ones and generated images as zeros)\n",
        "        real = 1\n",
        "        fake = 0\n",
        "        # Use noisy labels: about 10% of the time, swap the labels\n",
        "        # (see https://github.com/soumith/ganhacks)\n",
        "        if np.random.randint(0, 10) < 1:\n",
        "          real = 0\n",
        "          fake = 1\n",
        "        d_loss_real = discriminator.train_on_batch(imgs, np.zeros((half_batch, 1)) + real)\n",
        "        d_loss_fake = discriminator.train_on_batch(gen_imgs, np.zeros((half_batch, 1)) + fake)\n",
        "\n",
        "        # ---------------------\n",
        "        #  Train Generator\n",
        "        # ---------------------\n",
        "\n",
        "        noise = np.random.normal(0, 1, (batch_size, noise_len))\n",
        "\n",
        "        # Train the generator (wants discriminator to mistake images as real)\n",
        "        g_loss = combined.train_on_batch(noise, np.ones((batch_size, 1)))\n",
        "\n",
        "        # If at save interval => save generated image samples and plot progress\n",
        "        if iteration % save_interval == 0:\n",
        "            # Plot the progress\n",
        "            d_loss = 0.5 * np.add(d_loss_real, d_loss_fake)\n",
        "            print (\"{} [D loss: {}, acc.: {:.2%}] [G loss: {}]\".format(iteration, d_loss[0], d_loss[1], g_loss))\n",
        "            save_imgs(generator, iteration)\n",
        "            "
      ],
      "execution_count": 0,
      "outputs": []
    },
    {
      "cell_type": "code",
      "metadata": {
        "id": "V6GQvK8Kb_4w",
        "colab_type": "code",
        "outputId": "ce4dddc4-ed54-4cff-da7a-282ab78fc30c",
        "colab": {
          "base_uri": "https://localhost:8080/",
          "height": 527
        }
      },
      "source": [
        "# set up directories to hold the images that are saved during training checkpoints.\n",
        "import os\n",
        "\n",
        "if (not os.path.isdir(images_dir)):\n",
        "    os.mkdir(images_dir)\n",
        "generator, discriminator, combined = build_combined()\n",
        "generator.summary()"
      ],
      "execution_count": 0,
      "outputs": [
        {
          "output_type": "stream",
          "text": [
            "Model: \"sequential_13\"\n",
            "_________________________________________________________________\n",
            "Layer (type)                 Output Shape              Param #   \n",
            "=================================================================\n",
            "dense_13 (Dense)             (None, 1152)              116352    \n",
            "_________________________________________________________________\n",
            "reshape_6 (Reshape)          (None, 3, 3, 128)         0         \n",
            "_________________________________________________________________\n",
            "up_sampling2d_6 (UpSampling2 (None, 9, 9, 128)         0         \n",
            "_________________________________________________________________\n",
            "conv2d_46 (Conv2D)           (None, 9, 9, 256)         295168    \n",
            "_________________________________________________________________\n",
            "batch_normalization_33 (Batc (None, 9, 9, 256)         1024      \n",
            "_________________________________________________________________\n",
            "leaky_re_lu_40 (LeakyReLU)   (None, 9, 9, 256)         0         \n",
            "_________________________________________________________________\n",
            "conv2d_47 (Conv2D)           (None, 9, 9, 64)          147520    \n",
            "_________________________________________________________________\n",
            "batch_normalization_34 (Batc (None, 9, 9, 64)          256       \n",
            "_________________________________________________________________\n",
            "leaky_re_lu_41 (LeakyReLU)   (None, 9, 9, 64)          0         \n",
            "_________________________________________________________________\n",
            "conv2d_48 (Conv2D)           (None, 9, 9, 1)           577       \n",
            "_________________________________________________________________\n",
            "activation_6 (Activation)    (None, 9, 9, 1)           0         \n",
            "=================================================================\n",
            "Total params: 560,897\n",
            "Trainable params: 560,257\n",
            "Non-trainable params: 640\n",
            "_________________________________________________________________\n"
          ],
          "name": "stdout"
        }
      ]
    },
    {
      "cell_type": "code",
      "metadata": {
        "id": "xOh085Z4dJ_2",
        "colab_type": "code",
        "outputId": "059e3467-3fd7-487d-ce41-a6ced9823dc0",
        "colab": {
          "base_uri": "https://localhost:8080/",
          "height": 1000
        }
      },
      "source": [
        "# Train using GPU acceleration\n",
        "# (see https://colab.research.google.com/notebooks/gpu.ipynb#scrollTo=Y04m-jvKRDsJ)\n",
        "device_name = test.gpu_device_name()\n",
        "if device_name != '/device:GPU:0':\n",
        "  print(\n",
        "      '\\n\\nThis error most likely means that this notebook is not '\n",
        "      'configured to use a GPU.  Change this in Notebook Settings via the '\n",
        "      'command palette (cmd/ctrl-shift-P) or the Edit menu.\\n\\n')\n",
        "  raise SystemError('GPU device not found')\n",
        "\n",
        "# Lower the number of iterations when you start debugging! You want a short testing cycle until you are confident\n",
        "# that the code is working. Also, since the exercises involve models with less complicated patterns, you will\n",
        "# likely not need as many iterations to train well.\n",
        "with device('/device:GPU:0'):\n",
        "  train(generator, discriminator, combined, iterations=1001, batch_size=32, save_interval=50)"
      ],
      "execution_count": 0,
      "outputs": [
        {
          "output_type": "stream",
          "text": [
            "Downloading data from https://storage.googleapis.com/tensorflow/tf-keras-datasets/mnist.npz\n",
            "11493376/11490434 [==============================] - 0s 0us/step\n",
            "[[[0 0 0 ... 0 0 0]\n",
            "  [0 0 0 ... 0 0 0]\n",
            "  [0 0 0 ... 0 0 0]\n",
            "  ...\n",
            "  [0 0 0 ... 0 0 0]\n",
            "  [0 0 0 ... 0 0 0]\n",
            "  [0 0 0 ... 0 0 0]]\n",
            "\n",
            " [[0 0 0 ... 0 0 0]\n",
            "  [0 0 0 ... 0 0 0]\n",
            "  [0 0 0 ... 0 0 0]\n",
            "  ...\n",
            "  [0 0 0 ... 0 0 0]\n",
            "  [0 0 0 ... 0 0 0]\n",
            "  [0 0 0 ... 0 0 0]]\n",
            "\n",
            " [[0 0 0 ... 0 0 0]\n",
            "  [0 0 0 ... 0 0 0]\n",
            "  [0 0 0 ... 0 0 0]\n",
            "  ...\n",
            "  [0 0 0 ... 0 0 0]\n",
            "  [0 0 0 ... 0 0 0]\n",
            "  [0 0 0 ... 0 0 0]]\n",
            "\n",
            " ...\n",
            "\n",
            " [[0 0 0 ... 0 0 0]\n",
            "  [0 0 0 ... 0 0 0]\n",
            "  [0 0 0 ... 0 0 0]\n",
            "  ...\n",
            "  [0 0 0 ... 0 0 0]\n",
            "  [0 0 0 ... 0 0 0]\n",
            "  [0 0 0 ... 0 0 0]]\n",
            "\n",
            " [[0 0 0 ... 0 0 0]\n",
            "  [0 0 0 ... 0 0 0]\n",
            "  [0 0 0 ... 0 0 0]\n",
            "  ...\n",
            "  [0 0 0 ... 0 0 0]\n",
            "  [0 0 0 ... 0 0 0]\n",
            "  [0 0 0 ... 0 0 0]]\n",
            "\n",
            " [[0 0 0 ... 0 0 0]\n",
            "  [0 0 0 ... 0 0 0]\n",
            "  [0 0 0 ... 0 0 0]\n",
            "  ...\n",
            "  [0 0 0 ... 0 0 0]\n",
            "  [0 0 0 ... 0 0 0]\n",
            "  [0 0 0 ... 0 0 0]]]\n",
            "0 [D loss: 1.0811131000518799, acc.: 25.00%] [G loss: 0.9887811541557312]\n",
            "50 [D loss: 0.9535902738571167, acc.: 37.50%] [G loss: 0.5656384229660034]\n",
            "100 [D loss: 0.9778923988342285, acc.: 50.00%] [G loss: 0.540124773979187]\n",
            "150 [D loss: 0.8493176698684692, acc.: 43.75%] [G loss: 0.5010536909103394]\n",
            "200 [D loss: 0.5974304676055908, acc.: 59.38%] [G loss: 0.5137451887130737]\n",
            "250 [D loss: 0.9669905304908752, acc.: 50.00%] [G loss: 0.5480174422264099]\n",
            "300 [D loss: 0.8307933807373047, acc.: 46.88%] [G loss: 0.5067840218544006]\n",
            "350 [D loss: 1.1406584978103638, acc.: 25.00%] [G loss: 0.6852288842201233]\n",
            "400 [D loss: 0.6255142092704773, acc.: 59.38%] [G loss: 0.4853752553462982]\n",
            "450 [D loss: 0.7573775053024292, acc.: 40.62%] [G loss: 0.5592527985572815]\n",
            "500 [D loss: 0.7345376014709473, acc.: 50.00%] [G loss: 0.5983142852783203]\n",
            "550 [D loss: 0.8020837306976318, acc.: 53.12%] [G loss: 0.38177746534347534]\n",
            "600 [D loss: 0.6894873976707458, acc.: 53.12%] [G loss: 0.4945712685585022]\n",
            "650 [D loss: 0.7171324491500854, acc.: 53.12%] [G loss: 0.36204826831817627]\n",
            "700 [D loss: 0.5917249321937561, acc.: 53.12%] [G loss: 0.49000316858291626]\n",
            "750 [D loss: 0.8666306734085083, acc.: 40.62%] [G loss: 0.5125479698181152]\n",
            "800 [D loss: 0.7138797044754028, acc.: 50.00%] [G loss: 0.5749503374099731]\n",
            "850 [D loss: 0.7897236347198486, acc.: 53.12%] [G loss: 0.6080529689788818]\n",
            "900 [D loss: 0.7077925205230713, acc.: 53.12%] [G loss: 0.46706074476242065]\n",
            "950 [D loss: 0.6602180600166321, acc.: 65.62%] [G loss: 0.46733325719833374]\n",
            "1000 [D loss: 0.723859965801239, acc.: 56.25%] [G loss: 0.5697493553161621]\n"
          ],
          "name": "stdout"
        }
      ]
    },
    {
      "cell_type": "code",
      "metadata": {
        "id": "O2SqVN1IdO4z",
        "colab_type": "code",
        "outputId": "366bf8ce-7f89-4103-c70c-398d36894c4c",
        "colab": {
          "base_uri": "https://localhost:8080/",
          "height": 282
        }
      },
      "source": [
        "show_new_image(generator)"
      ],
      "execution_count": 0,
      "outputs": [
        {
          "output_type": "execute_result",
          "data": {
            "text/plain": [
              "<matplotlib.image.AxesImage at 0x7f7bc4e06c50>"
            ]
          },
          "metadata": {
            "tags": []
          },
          "execution_count": 41
        },
        {
          "output_type": "display_data",
          "data": {
            "image/png": "[encoded data removed]",
            "text/plain": [
              "<Figure size 432x288 with 1 Axes>"
            ]
          },
          "metadata": {
            "tags": []
          }
        }
      ]
    },
    {
      "cell_type": "code",
      "metadata": {
        "id": "-0JS8TT3aaWc",
        "colab_type": "code",
        "outputId": "b554b4d5-43e7-431e-efae-b7f689a34f2f",
        "colab": {
          "base_uri": "https://localhost:8080/",
          "height": 282
        }
      },
      "source": [
        "show_new_image(generator)"
      ],
      "execution_count": 0,
      "outputs": [
        {
          "output_type": "execute_result",
          "data": {
            "text/plain": [
              "<matplotlib.image.AxesImage at 0x7f7bcebf54a8>"
            ]
          },
          "metadata": {
            "tags": []
          },
          "execution_count": 42
        },
        {
          "output_type": "display_data",
          "data": {
            "image/png": "[encoded data removed]",
            "text/plain": [
              "<Figure size 432x288 with 1 Axes>"
            ]
          },
          "metadata": {
            "tags": []
          }
        }
      ]
    },
    {
      "cell_type": "code",
      "metadata": {
        "id": "ku9UST0zacd-",
        "colab_type": "code",
        "outputId": "a9782139-c2bd-427f-8f6a-e1489a81f341",
        "colab": {
          "base_uri": "https://localhost:8080/",
          "height": 282
        }
      },
      "source": [
        "show_new_image(generator)"
      ],
      "execution_count": 0,
      "outputs": [
        {
          "output_type": "execute_result",
          "data": {
            "text/plain": [
              "<matplotlib.image.AxesImage at 0x7f7bcb4924a8>"
            ]
          },
          "metadata": {
            "tags": []
          },
          "execution_count": 43
        },
        {
          "output_type": "display_data",
          "data": {
            "image/png": "[encoded data removed]",
            "text/plain": [
              "<Figure size 432x288 with 1 Axes>"
            ]
          },
          "metadata": {
            "tags": []
          }
        }
      ]
    },
    {
      "cell_type": "markdown",
      "metadata": {
        "id": "8DjAvBKR10j6",
        "colab_type": "text"
      },
      "source": [
        "# Exercise Option 2 (More Challenging)\n",
        "Change the model so that you can select which number you get an image of rather than always getting a random one. I highly recommend that you limit your model to only learning two or three numbers, so that you can get decent results with less training time."
      ]
    },
    {
      "cell_type": "code",
      "metadata": {
        "id": "fYAnN9V2fZD9",
        "colab_type": "code",
        "colab": {}
      },
      "source": [
        "#I didn't have time to figure out how to have the model select numbers\n",
        "#For some reason, the output became not as good this week\n",
        "\n",
        "# Global Constants\n",
        "images_dir = \"dcgan_images\"\n",
        "img_rows = 28\n",
        "img_cols = 28\n",
        "channels = 1\n",
        "noise_len = 100\n",
        "\n",
        "def build_discriminator():\n",
        "    '''\n",
        "    Put together a CNN that will return a single confidence output.\n",
        "    \n",
        "    returns: the model object\n",
        "    '''\n",
        "\n",
        "    img_shape = (img_rows, img_cols, channels)\n",
        "\n",
        "    model = Sequential()\n",
        "    #tried adding more filters, didn't have much effect\n",
        "\n",
        "    model.add(Conv2D(32, kernel_size=3, strides=2, input_shape=img_shape, padding=\"same\"))\n",
        "    model.add(LeakyReLU(alpha=0.2))\n",
        "    model.add(Dropout(0.25))\n",
        "    model.add(Conv2D(64, kernel_size=3, strides=2, padding=\"same\"))\n",
        "    model.add(ZeroPadding2D(padding=((0,1),(0,1))))\n",
        "    model.add(BatchNormalization(momentum=0.8))\n",
        "    model.add(LeakyReLU(alpha=0.2))\n",
        "    model.add(Dropout(0.25))\n",
        "    model.add(Conv2D(128, kernel_size=3, strides=2, padding=\"same\"))\n",
        "    model.add(BatchNormalization(momentum=0.8))\n",
        "    model.add(LeakyReLU(alpha=0.2))\n",
        "    model.add(Dropout(0.25))\n",
        "    model.add(Conv2D(256, kernel_size=3, strides=1, padding=\"same\"))\n",
        "    model.add(BatchNormalization(momentum=0.8))\n",
        "    model.add(LeakyReLU(alpha=0.2))\n",
        "    model.add(Dropout(0.25))\n",
        "\n",
        "    model.add(Flatten())\n",
        "    model.add(Dense(1, activation='sigmoid'))\n",
        "\n",
        "    return model\n",
        "\n",
        "def build_generator():\n",
        "    '''\n",
        "    Put together a model that takes in one-dimensional noise and outputs two-dimensional\n",
        "    data representing a black and white image, with -1 for black and 1 for white.\n",
        "    \n",
        "    returns: the model object\n",
        "    '''\n",
        "\n",
        "    noise_shape = (noise_len,)\n",
        "\n",
        "    model = Sequential()\n",
        "\n",
        "    #tried added more filters, didn't have much effect\n",
        "    model.add(Dense(128 * 7 * 7, activation=\"relu\", input_shape=noise_shape))\n",
        "    model.add(Reshape((7, 7, 128)))\n",
        "    model.add(UpSampling2D(interpolation=\"bilinear\"))\n",
        "    model.add(Conv2D(128, kernel_size=3, padding=\"same\"))\n",
        "    model.add(BatchNormalization(momentum=0.8)) \n",
        "    model.add(LeakyReLU(alpha=0.2))\n",
        "    model.add(UpSampling2D(interpolation=\"bilinear\"))\n",
        "    model.add(Conv2D(64, kernel_size=3, padding=\"same\"))\n",
        "    model.add(BatchNormalization(momentum=0.8))\n",
        "    model.add(LeakyReLU(alpha=0.2))\n",
        "    model.add(Conv2D(1, kernel_size=3, padding=\"same\"))\n",
        "    model.add(Activation(\"tanh\"))\n",
        "\n",
        "    return model\n",
        "\n",
        "def build_combined():\n",
        "    '''\n",
        "    Puts together a model that combines the discriminator and generator models.\n",
        "    \n",
        "    returns: the generator, discriminator, and combined model objects\n",
        "    '''\n",
        "    \n",
        "    optimizer = Adam(0.0002, 0.5)\n",
        "\n",
        "    # Build and compile the discriminator\n",
        "    discriminator = build_discriminator()\n",
        "    discriminator.compile(loss='binary_crossentropy', \n",
        "                          optimizer=optimizer,\n",
        "                          metrics=['accuracy'])\n",
        "\n",
        "\n",
        "    # Build and compile the generator\n",
        "    generator = build_generator()\n",
        "\n",
        "    # The generator takes noise as input and generates images\n",
        "    noise = Input(shape=(noise_len,))\n",
        "    img = generator(noise)\n",
        "    \n",
        "    # For the combined model we will only train the generator\n",
        "    discriminator.trainable = True\n",
        "\n",
        "    # The discriminator takes generated images as input and determines validity\n",
        "    valid = discriminator(img)\n",
        "\n",
        "    # The combined model  (stacked generator and discriminator) takes\n",
        "    # noise as input => generates images => determines validity \n",
        "    combined = Model(inputs=noise, outputs=valid)\n",
        "    combined.compile(loss='binary_crossentropy', optimizer=optimizer)\n",
        "    return generator, discriminator, combined\n",
        "\n",
        "def train(generator, discriminator, combined, iterations, batch_size=128, save_interval=50):\n",
        "    '''\n",
        "    Trains all model objects\n",
        "    \n",
        "    generator: the generator model object returned by build_combined\n",
        "    discriminator: the discriminator model object returned by build_combined\n",
        "    combined: the combined model object returned by build_combined\n",
        "    iterations: integer, the number of iterations to train for\n",
        "    batch_size: integer, the number of training samples to use at a time\n",
        "    save_interval: integer, will generate and save images when the current iteration_num % save_interval is 0\n",
        "    \n",
        "    returns: None\n",
        "    '''\n",
        "\n",
        "    # Load the dataset\n",
        "    (X_train_prefilter, Y_train), (_, _) = mnist.load_data()\n",
        "    train_filter = np.where((Y_train == 0 ) | (Y_train == 1) | (Y_train == 2))\n",
        "    X_train = X_train_prefilter[train_filter]\n",
        "\n",
        "    # Rescale -1 to 1\n",
        "    X_train = (X_train.astype(np.float32) - 127.5) / 127.5\n",
        "    X_train = np.expand_dims(X_train, axis=3)\n",
        "\n",
        "    half_batch = int(batch_size / 2)\n",
        "\n",
        "    for iteration in range(iterations):\n",
        "\n",
        "        # ---------------------\n",
        "        #  Train Discriminator\n",
        "        # ---------------------\n",
        "\n",
        "        # Select a random half batch of images\n",
        "        idx = np.random.randint(0, X_train.shape[0], half_batch)\n",
        "        imgs = X_train[idx]\n",
        "\n",
        "        # Sample noise and generate a half batch of new images\n",
        "        noise = np.random.normal(0, 1, (half_batch, noise_len))\n",
        "        gen_imgs = generator.predict(noise)\n",
        "\n",
        "        # Train the discriminator (real images classified as ones and generated images as zeros)\n",
        "        real = 1\n",
        "        fake = 0\n",
        "        # Use noisy labels: about 10% of the time, swap the labels\n",
        "        # (see https://github.com/soumith/ganhacks)\n",
        "        if np.random.randint(0, 10) < 1:\n",
        "          real = 0\n",
        "          fake = 1\n",
        "        d_loss_real = discriminator.train_on_batch(imgs, np.zeros((half_batch, 1)) + real)\n",
        "        d_loss_fake = discriminator.train_on_batch(gen_imgs, np.zeros((half_batch, 1)) + fake)\n",
        "\n",
        "        # ---------------------\n",
        "        #  Train Generator\n",
        "        # ---------------------\n",
        "\n",
        "        noise = np.random.normal(0, 1, (batch_size, noise_len))\n",
        "\n",
        "        # Train the generator (wants discriminator to mistake images as real)\n",
        "        g_loss = combined.train_on_batch(noise, np.ones((batch_size, 1)))\n",
        "\n",
        "        # If at save interval => save generated image samples and plot progress\n",
        "        if iteration % save_interval == 0:\n",
        "            # Plot the progress\n",
        "            d_loss = 0.5 * np.add(d_loss_real, d_loss_fake)\n",
        "            print (\"{} [D loss: {}, acc.: {:.2%}] [G loss: {}]\".format(iteration, d_loss[0], d_loss[1], g_loss))\n",
        "            save_imgs(generator, iteration)\n",
        "            "
      ],
      "execution_count": 0,
      "outputs": []
    },
    {
      "cell_type": "code",
      "metadata": {
        "id": "RoPnGcSgiVnQ",
        "colab_type": "code",
        "outputId": "37598ca3-9283-4182-e6bb-600e2e447e73",
        "colab": {
          "base_uri": "https://localhost:8080/",
          "height": 561
        }
      },
      "source": [
        "# set up directories to hold the images that are saved during training checkpoints.\n",
        "import os\n",
        "\n",
        "if (not os.path.isdir(images_dir)):\n",
        "    os.mkdir(images_dir)\n",
        "generator, discriminator, combined = build_combined()\n",
        "generator.summary()"
      ],
      "execution_count": 0,
      "outputs": [
        {
          "output_type": "stream",
          "text": [
            "Model: \"sequential_1\"\n",
            "_________________________________________________________________\n",
            "Layer (type)                 Output Shape              Param #   \n",
            "=================================================================\n",
            "dense_1 (Dense)              (None, 6272)              633472    \n",
            "_________________________________________________________________\n",
            "reshape (Reshape)            (None, 7, 7, 128)         0         \n",
            "_________________________________________________________________\n",
            "up_sampling2d (UpSampling2D) (None, 14, 14, 128)       0         \n",
            "_________________________________________________________________\n",
            "conv2d_4 (Conv2D)            (None, 14, 14, 128)       147584    \n",
            "_________________________________________________________________\n",
            "batch_normalization_3 (Batch (None, 14, 14, 128)       512       \n",
            "_________________________________________________________________\n",
            "leaky_re_lu_4 (LeakyReLU)    (None, 14, 14, 128)       0         \n",
            "_________________________________________________________________\n",
            "up_sampling2d_1 (UpSampling2 (None, 28, 28, 128)       0         \n",
            "_________________________________________________________________\n",
            "conv2d_5 (Conv2D)            (None, 28, 28, 64)        73792     \n",
            "_________________________________________________________________\n",
            "batch_normalization_4 (Batch (None, 28, 28, 64)        256       \n",
            "_________________________________________________________________\n",
            "leaky_re_lu_5 (LeakyReLU)    (None, 28, 28, 64)        0         \n",
            "_________________________________________________________________\n",
            "conv2d_6 (Conv2D)            (None, 28, 28, 1)         577       \n",
            "_________________________________________________________________\n",
            "activation (Activation)      (None, 28, 28, 1)         0         \n",
            "=================================================================\n",
            "Total params: 856,193\n",
            "Trainable params: 855,809\n",
            "Non-trainable params: 384\n",
            "_________________________________________________________________\n"
          ],
          "name": "stdout"
        }
      ]
    },
    {
      "cell_type": "code",
      "metadata": {
        "id": "smeOjfWzin-0",
        "colab_type": "code",
        "outputId": "a0469031-f74f-4b32-bffb-6f341a5e439e",
        "colab": {
          "base_uri": "https://localhost:8080/",
          "height": 1000
        }
      },
      "source": [
        "# Train using GPU acceleration\n",
        "# (see https://colab.research.google.com/notebooks/gpu.ipynb#scrollTo=Y04m-jvKRDsJ)\n",
        "device_name = test.gpu_device_name()\n",
        "if device_name != '/device:GPU:0':\n",
        "  print(\n",
        "      '\\n\\nThis error most likely means that this notebook is not '\n",
        "      'configured to use a GPU.  Change this in Notebook Settings via the '\n",
        "      'command palette (cmd/ctrl-shift-P) or the Edit menu.\\n\\n')\n",
        "  raise SystemError('GPU device not found')\n",
        "\n",
        "# Lower the number of iterations when you start debugging! You want a short testing cycle until you are confident\n",
        "# that the code is working. Also, since the exercises involve models with less complicated patterns, you will\n",
        "# likely not need as many iterations to train well.\n",
        "with device('/device:GPU:0'):\n",
        "  train(generator, discriminator, combined, iterations=3001, batch_size=32, save_interval=50)"
      ],
      "execution_count": 0,
      "outputs": [
        {
          "output_type": "stream",
          "text": [
            "Downloading data from https://storage.googleapis.com/tensorflow/tf-keras-datasets/mnist.npz\n",
            "11493376/11490434 [==============================] - 0s 0us/step\n",
            "0 [D loss: 1.2265892624855042, acc.: 25.00%] [G loss: 0.5121743679046631]\n",
            "50 [D loss: 0.8225399404764175, acc.: 56.25%] [G loss: 0.3512263894081116]\n",
            "100 [D loss: 0.8352023512125015, acc.: 53.12%] [G loss: 0.6941455602645874]\n",
            "150 [D loss: 0.9305342733860016, acc.: 53.12%] [G loss: 0.656204342842102]\n",
            "200 [D loss: 0.9085864573717117, acc.: 50.00%] [G loss: 0.5313923358917236]\n",
            "250 [D loss: 0.9745405614376068, acc.: 50.00%] [G loss: 0.3579660654067993]\n",
            "300 [D loss: 0.6831572502851486, acc.: 62.50%] [G loss: 0.4566539525985718]\n",
            "350 [D loss: 1.0406253635883331, acc.: 43.75%] [G loss: 0.5110502243041992]\n",
            "400 [D loss: 0.7907501459121704, acc.: 53.12%] [G loss: 0.5260710716247559]\n",
            "450 [D loss: 0.6940689235925674, acc.: 53.12%] [G loss: 0.6132388114929199]\n",
            "500 [D loss: 0.8001381903886795, acc.: 56.25%] [G loss: 0.5375803709030151]\n",
            "550 [D loss: 0.8422001004219055, acc.: 46.88%] [G loss: 0.5337013602256775]\n",
            "600 [D loss: 0.8356640338897705, acc.: 46.88%] [G loss: 0.4797235429286957]\n",
            "650 [D loss: 0.9660612344741821, acc.: 43.75%] [G loss: 0.514603853225708]\n",
            "700 [D loss: 0.8945699036121368, acc.: 46.88%] [G loss: 0.42721885442733765]\n",
            "750 [D loss: 0.95399409532547, acc.: 46.88%] [G loss: 0.5433576703071594]\n",
            "800 [D loss: 0.7989757210016251, acc.: 53.12%] [G loss: 0.46696406602859497]\n",
            "850 [D loss: 0.8600094616413116, acc.: 50.00%] [G loss: 0.41206440329551697]\n",
            "900 [D loss: 0.8711836338043213, acc.: 46.88%] [G loss: 0.4423220753669739]\n",
            "950 [D loss: 0.8503270745277405, acc.: 43.75%] [G loss: 0.4761040508747101]\n",
            "1000 [D loss: 0.7479303479194641, acc.: 50.00%] [G loss: 0.5721831321716309]\n",
            "1050 [D loss: 0.8542010933160782, acc.: 46.88%] [G loss: 0.423357754945755]\n",
            "1100 [D loss: 0.886631578207016, acc.: 43.75%] [G loss: 0.5217267274856567]\n",
            "1150 [D loss: 0.7940422594547272, acc.: 50.00%] [G loss: 0.5064361095428467]\n",
            "1200 [D loss: 0.7875887751579285, acc.: 50.00%] [G loss: 0.4198029041290283]\n",
            "1250 [D loss: 0.7591409832239151, acc.: 59.38%] [G loss: 0.5090159177780151]\n",
            "1300 [D loss: 0.7968095242977142, acc.: 46.88%] [G loss: 0.45835039019584656]\n",
            "1350 [D loss: 0.9744623154401779, acc.: 43.75%] [G loss: 0.41219329833984375]\n",
            "1400 [D loss: 0.7688947319984436, acc.: 50.00%] [G loss: 0.46946626901626587]\n",
            "1450 [D loss: 0.8528519868850708, acc.: 50.00%] [G loss: 0.4254775047302246]\n",
            "1500 [D loss: 0.7446573674678802, acc.: 50.00%] [G loss: 0.4609614610671997]\n",
            "1550 [D loss: 0.782168060541153, acc.: 50.00%] [G loss: 0.44337210059165955]\n",
            "1600 [D loss: 0.777746319770813, acc.: 50.00%] [G loss: 0.4672904312610626]\n",
            "1650 [D loss: 0.8805073499679565, acc.: 46.88%] [G loss: 0.41651326417922974]\n",
            "1700 [D loss: 0.8654066324234009, acc.: 37.50%] [G loss: 0.5580798387527466]\n",
            "1750 [D loss: 0.7943555414676666, acc.: 46.88%] [G loss: 0.49229225516319275]\n",
            "1800 [D loss: 0.8326167315244675, acc.: 50.00%] [G loss: 0.3933483064174652]\n",
            "1850 [D loss: 0.8532636016607285, acc.: 50.00%] [G loss: 0.4297884702682495]\n",
            "1900 [D loss: 0.8350359201431274, acc.: 53.12%] [G loss: 0.4532797634601593]\n",
            "1950 [D loss: 0.7927875816822052, acc.: 50.00%] [G loss: 0.3962632417678833]\n",
            "2000 [D loss: 0.8164471685886383, acc.: 46.88%] [G loss: 0.38809317350387573]\n",
            "2050 [D loss: 0.8414893746376038, acc.: 43.75%] [G loss: 0.44014978408813477]\n",
            "2100 [D loss: 0.852347195148468, acc.: 43.75%] [G loss: 0.5002976655960083]\n",
            "2150 [D loss: 0.8734390437602997, acc.: 50.00%] [G loss: 0.4207439422607422]\n",
            "2200 [D loss: 0.7356722801923752, acc.: 50.00%] [G loss: 0.4298083186149597]\n",
            "2250 [D loss: 0.8020268231630325, acc.: 50.00%] [G loss: 0.5267621278762817]\n",
            "2300 [D loss: 0.8229864835739136, acc.: 50.00%] [G loss: 0.4708337187767029]\n",
            "2350 [D loss: 0.7332593947649002, acc.: 50.00%] [G loss: 0.4099104404449463]\n",
            "2400 [D loss: 0.8088027387857437, acc.: 46.88%] [G loss: 0.42190560698509216]\n",
            "2450 [D loss: 0.8013812303543091, acc.: 50.00%] [G loss: 0.5003514289855957]\n",
            "2500 [D loss: 0.8166534304618835, acc.: 50.00%] [G loss: 0.4110683798789978]\n",
            "2550 [D loss: 0.7326267659664154, acc.: 46.88%] [G loss: 0.436490923166275]\n",
            "2600 [D loss: 0.7597323954105377, acc.: 50.00%] [G loss: 0.4182499647140503]\n",
            "2650 [D loss: 0.7732554376125336, acc.: 46.88%] [G loss: 0.4694982171058655]\n",
            "2700 [D loss: 0.7775928378105164, acc.: 50.00%] [G loss: 0.4315580725669861]\n",
            "2750 [D loss: 0.8236741125583649, acc.: 46.88%] [G loss: 0.4335833787918091]\n",
            "2800 [D loss: 0.7353489995002747, acc.: 50.00%] [G loss: 0.4364779591560364]\n",
            "2850 [D loss: 0.8720705807209015, acc.: 43.75%] [G loss: 0.3818848729133606]\n",
            "2900 [D loss: 0.7581185102462769, acc.: 50.00%] [G loss: 0.4309038519859314]\n",
            "2950 [D loss: 0.8294340670108795, acc.: 50.00%] [G loss: 0.4066741466522217]\n",
            "3000 [D loss: 0.7844069302082062, acc.: 50.00%] [G loss: 0.4401279091835022]\n"
          ],
          "name": "stdout"
        }
      ]
    },
    {
      "cell_type": "code",
      "metadata": {
        "id": "9fyuGp_ojNVp",
        "colab_type": "code",
        "outputId": "a2a5775d-e95c-4e0c-c31b-49faee2336ac",
        "colab": {
          "base_uri": "https://localhost:8080/",
          "height": 553
        }
      },
      "source": [
        "show_new_image(generator)\n",
        "Image(filename=os.path.join(images_dir, 'mnist_500.png'))"
      ],
      "execution_count": 0,
      "outputs": [
        {
          "output_type": "execute_result",
          "data": {
            "image/png": "[encoded data removed]",
            "text/plain": [
              "<IPython.core.display.Image object>"
            ]
          },
          "metadata": {
            "tags": []
          },
          "execution_count": 8
        },
        {
          "output_type": "display_data",
          "data": {
            "image/png": "[encoded data removed]",
            "text/plain": [
              "<Figure size 432x288 with 1 Axes>"
            ]
          },
          "metadata": {
            "tags": []
          }
        }
      ]
    },
    {
      "cell_type": "code",
      "metadata": {
        "id": "8zA7VR-jjPCk",
        "colab_type": "code",
        "outputId": "ad3b7917-2b1d-4da7-8f52-7cdd5da3c028",
        "colab": {
          "base_uri": "https://localhost:8080/",
          "height": 553
        }
      },
      "source": [
        "show_new_image(generator)\n",
        "Image(filename=os.path.join(images_dir, 'mnist_1500.png'))"
      ],
      "execution_count": 0,
      "outputs": [
        {
          "output_type": "execute_result",
          "data": {
            "image/png": "[encoded data removed]",
            "text/plain": [
              "<IPython.core.display.Image object>"
            ]
          },
          "metadata": {
            "tags": []
          },
          "execution_count": 9
        },
        {
          "output_type": "display_data",
          "data": {
            "image/png": "[encoded data removed]",
            "text/plain": [
              "<Figure size 432x288 with 1 Axes>"
            ]
          },
          "metadata": {
            "tags": []
          }
        }
      ]
    },
    {
      "cell_type": "code",
      "metadata": {
        "id": "jz1_KPH9jQyu",
        "colab_type": "code",
        "outputId": "57b8813c-9b38-4ddb-a3d0-196f030ebc82",
        "colab": {
          "base_uri": "https://localhost:8080/",
          "height": 553
        }
      },
      "source": [
        "show_new_image(generator)\n",
        "Image(filename=os.path.join(images_dir, 'mnist_3000.png'))"
      ],
      "execution_count": 0,
      "outputs": [
        {
          "output_type": "execute_result",
          "data": {
            "image/png": "[encoded data removed]",
            "text/plain": [
              "<IPython.core.display.Image object>"
            ]
          },
          "metadata": {
            "tags": []
          },
          "execution_count": 10
        },
        {
          "output_type": "display_data",
          "data": {
            "image/png": "[encoded data removed]",
            "text/plain": [
              "<Figure size 432x288 with 1 Axes>"
            ]
          },
          "metadata": {
            "tags": []
          }
        }
      ]
    },
    {
      "cell_type": "markdown",
      "metadata": {
        "id": "uoO-aBOrsHWh",
        "colab_type": "text"
      },
      "source": [
        "# Exercise Option 3 (More Challenging)\n",
        "You may notice the current GAN with 2000 iterations only gives so-so output. Unfortunately, if you keep training past this point, the output just gets worse. I haven't yet been able to figure out how to change the model to get better results. Can you?"
      ]
    },
    {
      "cell_type": "code",
      "metadata": {
        "id": "Ufi0IeBv10j8",
        "colab_type": "code",
        "colab": {}
      },
      "source": [
        ""
      ],
      "execution_count": 0,
      "outputs": []
    }
  ]
}